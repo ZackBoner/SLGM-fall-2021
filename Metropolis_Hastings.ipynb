{
 "cells": [
  {
   "cell_type": "code",
   "execution_count": 72,
   "id": "48bd400a-11d1-481a-a94b-c661758e08b7",
   "metadata": {},
   "outputs": [],
   "source": [
    "import numpy as np\n",
    "import random\n",
    "from scipy.stats import poisson, bernoulli, uniform\n",
    "from collections import Counter\n",
    "import matplotlib.pyplot as plt"
   ]
  },
  {
   "cell_type": "code",
   "execution_count": 128,
   "id": "25d2b1a6-e60c-4770-8f9f-f39371bdf85d",
   "metadata": {},
   "outputs": [],
   "source": [
    "def metropolis_hastings_poisson(l: int = 2):\n",
    "    x = 0\n",
    "    for t in range(100):\n",
    "        coin = bernoulli(1/2).rvs()\n",
    "        if coin:\n",
    "            x_next = x + 1\n",
    "            r = l/(x+1)\n",
    "        else:\n",
    "            x_next = x - 1\n",
    "            r = x/l\n",
    "            \n",
    "        u = uniform.rvs()\n",
    "        \n",
    "        if u <= r:\n",
    "            x = x_next\n",
    "            \n",
    "    return x"
   ]
  },
  {
   "cell_type": "code",
   "execution_count": 225,
   "id": "6a9fffce-4099-460a-a8dd-2795991ab184",
   "metadata": {},
   "outputs": [],
   "source": [
    "data = [metropolis_hastings_poisson(2) for _ in range(1000)]"
   ]
  },
  {
   "cell_type": "code",
   "execution_count": 226,
   "id": "7c278b13-bc0f-450c-9345-fc6ba50125ad",
   "metadata": {},
   "outputs": [],
   "source": [
    "poisson_data = poisson(2).rvs(1000)"
   ]
  },
  {
   "cell_type": "code",
   "execution_count": 227,
   "id": "bd4b3068-51cc-4ba9-804a-df901426bd30",
   "metadata": {},
   "outputs": [],
   "source": [
    "poisson_pmf = poisson(2).pmf(range(8))*1000"
   ]
  },
  {
   "cell_type": "code",
   "execution_count": 228,
   "id": "3e01c4a1-850b-435b-8e6b-eb39d3539b0b",
   "metadata": {},
   "outputs": [
    {
     "data": {
      "image/png": "[encoded data removed]",
      "text/plain": [
       "<Figure size 432x288 with 1 Axes>"
      ]
     },
     "metadata": {
      "needs_background": "light"
     },
     "output_type": "display_data"
    }
   ],
   "source": [
    "plt.hist(data, bins=len(set(data)), alpha=0.5)\n",
    "plt.hist(poisson_data, bins=len(set(poisson_data)), alpha=0.5)\n",
    "plt.plot(poisson_pmf)\n",
    "plt.show()"
   ]
  },
  {
   "cell_type": "code",
   "execution_count": 229,
   "id": "262dddc4-74ca-4ffe-a637-52822feac36a",
   "metadata": {},
   "outputs": [],
   "source": [
    "def MC_transition_poisson(i: int, l: int):\n",
    "    u = uniform.rvs()\n",
    "    if u <= l/(2*(i+1)): \n",
    "        return i+1\n",
    "    elif u <= l/(2*(i+1))+(1/2)*min(i/l, 1):\n",
    "        return i-1\n",
    "    else:\n",
    "        return i"
   ]
  },
  {
   "cell_type": "code",
   "execution_count": 230,
   "id": "e4a7d437-ef7b-49c5-9d4c-a27e5270e58e",
   "metadata": {},
   "outputs": [],
   "source": [
    "def MC_poisson(l: int):\n",
    "    x = 0\n",
    "    for t in range(100):\n",
    "        x = MC_transition_poisson(x, l)\n",
    "    return x"
   ]
  },
  {
   "cell_type": "code",
   "execution_count": 242,
   "id": "d9ce1bdd-8783-4a9c-af85-7ea68d1e65bb",
   "metadata": {},
   "outputs": [],
   "source": [
    "mc_data = [MC_poisson(2) for _ in range(1000)]"
   ]
  },
  {
   "cell_type": "code",
   "execution_count": 247,
   "id": "98e53cd5-3fff-4167-8e6b-e4c3b826e790",
   "metadata": {},
   "outputs": [
    {
     "data": {
      "image/png": "[encoded data removed]",
      "text/plain": [
       "<Figure size 432x288 with 1 Axes>"
      ]
     },
     "metadata": {
      "needs_background": "light"
     },
     "output_type": "display_data"
    }
   ],
   "source": [
    "plt.hist(data, bins=len(set(data)), alpha=0.25, label='m-h')\n",
    "plt.hist(mc_data, bins=len(set(mc_data)), alpha=0.25, label='mc')\n",
    "plt.hist(poisson_data, bins=len(set(poisson_data)), alpha=0.25, label='scipy')\n",
    "plt.scatter(range(len(poisson_pmf)), poisson_pmf, label='true pmf')\n",
    "plt.legend()\n",
    "plt.show()"
   ]
  },
  {
   "cell_type": "code",
   "execution_count": null,
   "id": "68a4ccd1-4184-4f2e-a3bd-e4a67dddd21d",
   "metadata": {},
   "outputs": [],
   "source": []
  }
 ],
 "metadata": {
  "kernelspec": {
   "display_name": "Python 3 (ipykernel)",
   "language": "python",
   "name": "python3"
  },
  "language_info": {
   "codemirror_mode": {
    "name": "ipython",
    "version": 3
   },
   "file_extension": ".py",
   "mimetype": "text/x-python",
   "name": "python",
   "nbconvert_exporter": "python",
   "pygments_lexer": "ipython3",
   "version": "3.9.7"
  }
 },
 "nbformat": 4,
 "nbformat_minor": 5
}
