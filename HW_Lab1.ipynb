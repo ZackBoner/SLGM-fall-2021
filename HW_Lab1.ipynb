{
 "cells": [
  {
   "cell_type": "markdown",
   "source": [
    "# Problem 1"
   ],
   "metadata": {}
  },
  {
   "cell_type": "code",
   "execution_count": 6,
   "source": [
    "from scipy.stats import binom\r\n",
    "\r\n",
    "a = binom(5, 0.5)\r\n",
    "a_p = 1 - a.cdf(3)\r\n",
    "print(f\"a) p-value: {a_p}\")\r\n",
    "\r\n",
    "b = binom(10, 0.5)\r\n",
    "b_p = 1 - b.cdf(6)\r\n",
    "print(f\"b) p-value: {b_p}\")\r\n",
    "\r\n",
    "c = binom(100, 0.5)\r\n",
    "c_p = 1 - c.cdf(60)\r\n",
    "print(f\"c) p-value: {c_p}\")\r\n",
    "\r\n",
    "d = binom(100, 0.5)\r\n",
    "d_p = 1 - d.cdf(40)\r\n",
    "print(f\"d) p-value: {d_p}\")\r\n"
   ],
   "outputs": [
    {
     "output_type": "stream",
     "name": "stdout",
     "text": [
      "a) p-value: 0.1875\n",
      "b) p-value: 0.171875\n",
      "c) p-value: 0.01760010010885238\n",
      "d) p-value: 0.9715560331795096\n"
     ]
    }
   ],
   "metadata": {}
  },
  {
   "cell_type": "markdown",
   "source": [
    "# Problem 2"
   ],
   "metadata": {}
  },
  {
   "cell_type": "code",
   "execution_count": 24,
   "source": [
    "from scipy.special import comb\r\n",
    "\r\n",
    "\r\n",
    "def p_Y_given_X(y, x):\r\n",
    "    return comb(y, x)*2**(-y)/sum(comb(y_prime, x)*2**(-y_prime) for y_prime in range(x, 6+1))\r\n"
   ],
   "outputs": [],
   "metadata": {}
  },
  {
   "cell_type": "code",
   "execution_count": 44,
   "source": [
    "import numpy as np\r\n",
    "\r\n",
    "for x in range(7):\r\n",
    "    print(f\"{x=}\")\r\n",
    "    y_given_x = [p_Y_given_X(y, x) for y in range(1, 7)]\r\n",
    "    y_hat = np.argmax(y_given_x) + 1\r\n",
    "    print(y_given_x)\r\n",
    "    print(f\"{y_hat=}\\n\")\r\n"
   ],
   "outputs": [
    {
     "output_type": "stream",
     "name": "stdout",
     "text": [
      "x=0\n",
      "[0.25196850393700787, 0.12598425196850394, 0.06299212598425197, 0.031496062992125984, 0.015748031496062992, 0.007874015748031496]\n",
      "y_hat=1\n",
      "\n",
      "x=1\n",
      "[0.26666666666666666, 0.26666666666666666, 0.2, 0.13333333333333333, 0.08333333333333333, 0.05]\n",
      "y_hat=1\n",
      "\n",
      "x=2\n",
      "[0.0, 0.16161616161616163, 0.24242424242424243, 0.24242424242424243, 0.20202020202020202, 0.15151515151515152]\n",
      "y_hat=3\n",
      "\n",
      "x=3\n",
      "[0.0, 0.0, 0.125, 0.25, 0.3125, 0.3125]\n",
      "y_hat=5\n",
      "\n",
      "x=4\n",
      "[0.0, 0.0, 0.0, 0.13793103448275862, 0.3448275862068966, 0.5172413793103449]\n",
      "y_hat=6\n",
      "\n",
      "x=5\n",
      "[0.0, 0.0, 0.0, 0.0, 0.25, 0.75]\n",
      "y_hat=6\n",
      "\n",
      "x=6\n",
      "[0.0, 0.0, 0.0, 0.0, 0.0, 1.0]\n",
      "y_hat=6\n",
      "\n"
     ]
    }
   ],
   "metadata": {}
  },
  {
   "cell_type": "markdown",
   "source": [
    "# Problem 4"
   ],
   "metadata": {}
  },
  {
   "cell_type": "code",
   "execution_count": 48,
   "source": [
    "def p(x):\r\n",
    "    return (1/6)*sum(comb(y, x)*2**(-y) for y in range(1, 7))\r\n",
    "\r\n",
    "\r\n",
    "E_x = sum(x*p(x) for x in range(7))\r\n",
    "print(E_x)\r\n"
   ],
   "outputs": [
    {
     "output_type": "stream",
     "name": "stdout",
     "text": [
      "1.75\n"
     ]
    }
   ],
   "metadata": {}
  },
  {
   "cell_type": "code",
   "execution_count": 69,
   "source": [
    "E_x2 = sum(x**2 * p(x) for x in range(7))\r\n",
    "sigma_x2 = E_x2 - E_x**2\r\n",
    "print(Fraction(E_x2).limit_denominator())\r\n",
    "print(Fraction(sigma_x2).limit_denominator())\r\n"
   ],
   "outputs": [
    {
     "output_type": "stream",
     "name": "stdout",
     "text": [
      "14/3\n",
      "77/48\n"
     ]
    }
   ],
   "metadata": {}
  },
  {
   "cell_type": "code",
   "execution_count": 63,
   "source": [
    "from fractions import Fraction\r\n",
    "\r\n",
    "E_xy = (1/6)*sum(sum(comb(y, x)*2**(-y)*x*y for y in range(1, 7))\r\n",
    "                 for x in range(0, 7))\r\n",
    "Cov_xy = E_xy - E_x * (7/2)\r\n",
    "print(Fraction(E_xy).limit_denominator())\r\n",
    "print(Fraction(Cov_xy).limit_denominator())\r\n"
   ],
   "outputs": [
    {
     "output_type": "stream",
     "name": "stdout",
     "text": [
      "91/12\n",
      "35/24\n"
     ]
    }
   ],
   "metadata": {}
  },
  {
   "cell_type": "code",
   "execution_count": 68,
   "source": [
    "corr_coef = Cov_xy/(np.sqrt(sigma_x2)*np.sqrt(35/12))\r\n",
    "print(corr_coef)\r\n"
   ],
   "outputs": [
    {
     "output_type": "stream",
     "name": "stdout",
     "text": [
      "0.674199862463242\n"
     ]
    }
   ],
   "metadata": {}
  },
  {
   "cell_type": "code",
   "execution_count": 75,
   "source": [
    "a = corr_coef*np.sqrt(35/12)/np.sqrt(sigma_x2)\r\n",
    "b = 7/2-a*E_x\r\n",
    "print(Fraction(a).limit_denominator())\r\n",
    "print(Fraction(b).limit_denominator())\r\n"
   ],
   "outputs": [
    {
     "output_type": "stream",
     "name": "stdout",
     "text": [
      "10/11\n",
      "21/11\n"
     ]
    }
   ],
   "metadata": {}
  },
  {
   "cell_type": "code",
   "execution_count": 73,
   "source": [
    "def f_opt(x):\r\n",
    "    return a*x + b"
   ],
   "outputs": [],
   "metadata": {}
  },
  {
   "cell_type": "code",
   "execution_count": 79,
   "source": [
    "for x in range(7):\r\n",
    "    print(f_opt(x))\r\n",
    "    print(Fraction(f_opt(x)).limit_denominator())"
   ],
   "outputs": [
    {
     "output_type": "stream",
     "name": "stdout",
     "text": [
      "1.909090909090909\n",
      "21/11\n",
      "2.8181818181818183\n",
      "31/11\n",
      "3.7272727272727275\n",
      "41/11\n",
      "4.636363636363637\n",
      "51/11\n",
      "5.545454545454546\n",
      "61/11\n",
      "6.454545454545455\n",
      "71/11\n",
      "7.363636363636364\n",
      "81/11\n"
     ]
    }
   ],
   "metadata": {}
  },
  {
   "cell_type": "markdown",
   "source": [
    "# Problem 5"
   ],
   "metadata": {}
  },
  {
   "cell_type": "code",
   "execution_count": 80,
   "source": [
    "p_horses_winning = (1/2, 1/4, 1/8, 1/16, 1/64, 1/64, 1/64, 1/64)\r\n",
    "\r\n",
    "def entropy(p_list):\r\n",
    "    return sum(p*np.log2(1/p) for p in p_list)\r\n",
    "\r\n",
    "entropy(p_horses_winning)"
   ],
   "outputs": [
    {
     "output_type": "execute_result",
     "data": {
      "text/plain": [
       "2.0"
      ]
     },
     "metadata": {},
     "execution_count": 80
    }
   ],
   "metadata": {}
  },
  {
   "cell_type": "code",
   "execution_count": null,
   "source": [],
   "outputs": [],
   "metadata": {}
  }
 ],
 "metadata": {
  "kernelspec": {
   "display_name": "Python 3 (ipykernel)",
   "language": "python",
   "name": "python3"
  },
  "language_info": {
   "codemirror_mode": {
    "name": "ipython",
    "version": 3
   },
   "file_extension": ".py",
   "mimetype": "text/x-python",
   "name": "python",
   "nbconvert_exporter": "python",
   "pygments_lexer": "ipython3",
   "version": "3.9.6"
  }
 },
 "nbformat": 4,
 "nbformat_minor": 4
}