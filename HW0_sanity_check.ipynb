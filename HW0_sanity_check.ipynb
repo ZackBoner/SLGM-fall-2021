{
 "cells": [
  {
   "cell_type": "markdown",
   "id": "f4bae07f-3739-4ffe-a44d-6914f2bf47d5",
   "metadata": {},
   "source": [
    "# Problem 4"
   ]
  },
  {
   "cell_type": "markdown",
   "id": "bfa1bdb2-319a-4903-a30d-a81c515bc2a7",
   "metadata": {},
   "source": [
    "## b)"
   ]
  },
  {
   "cell_type": "code",
   "execution_count": 3,
   "id": "e5b7e41b-740f-41dc-9c2a-52263510a60f",
   "metadata": {},
   "outputs": [],
   "source": [
    "p_working = 0.75\n",
    "p_succeed_working = 0.9\n",
    "p_succeed_not_working = 0"
   ]
  },
  {
   "cell_type": "code",
   "execution_count": 6,
   "id": "71adfcc1-426d-4155-804b-bcc6bda3bd75",
   "metadata": {},
   "outputs": [
    {
     "name": "stdout",
     "output_type": "stream",
     "text": [
      "0.7905807605711994\n"
     ]
    }
   ],
   "source": [
    "import numpy as np\n",
    "\n",
    "n_times_first_failed = 0\n",
    "n_times_second_and_first_failed = 0\n",
    "for _ in range(100000):\n",
    "    working = np.random.uniform() < p_working\n",
    "    if working:\n",
    "        first = np.random.uniform() < p_succeed_working\n",
    "        second = np.random.uniform() < p_succeed_working\n",
    "    if not working:\n",
    "        first, second = False, False\n",
    "    \n",
    "    if not first:\n",
    "        n_times_first_failed += 1\n",
    "        if not second:\n",
    "            n_times_second_and_first_failed += 1\n",
    "\n",
    "print(n_times_second_and_first_failed/n_times_first_failed)"
   ]
  },
  {
   "cell_type": "code",
   "execution_count": null,
   "id": "938b1462-5e8b-439d-91ab-b03d583babff",
   "metadata": {},
   "outputs": [],
   "source": []
  }
 ],
 "metadata": {
  "kernelspec": {
   "display_name": "Python 3 (ipykernel)",
   "language": "python",
   "name": "python3"
  },
  "language_info": {
   "codemirror_mode": {
    "name": "ipython",
    "version": 3
   },
   "file_extension": ".py",
   "mimetype": "text/x-python",
   "name": "python",
   "nbconvert_exporter": "python",
   "pygments_lexer": "ipython3",
   "version": "3.9.6"
  }
 },
 "nbformat": 4,
 "nbformat_minor": 5
}
